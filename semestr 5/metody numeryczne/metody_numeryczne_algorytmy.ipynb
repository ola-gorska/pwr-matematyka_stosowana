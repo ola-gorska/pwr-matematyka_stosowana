{
 "cells": [
  {
   "cell_type": "code",
   "execution_count": 2,
   "metadata": {},
   "outputs": [],
   "source": [
    "import numpy as np\n",
    "import matplotlib.pyplot as plt\n",
    "import cProfile"
   ]
  },
  {
   "cell_type": "markdown",
   "metadata": {},
   "source": [
    "### Dokładność maszynowa komputera"
   ]
  },
  {
   "cell_type": "code",
   "execution_count": 3,
   "metadata": {},
   "outputs": [
    {
     "name": "stdout",
     "output_type": "stream",
     "text": [
      "2.220446049250313e-16\n",
      "2.220446049250313e-16\n"
     ]
    }
   ],
   "source": [
    "epsilon = 1\n",
    "\n",
    "while 1+epsilon != 1:\n",
    "    epsilon *= 0.5\n",
    "\n",
    "print(epsilon*2)\n",
    "print(np.finfo(float).eps)"
   ]
  },
  {
   "cell_type": "markdown",
   "metadata": {},
   "source": [
    "### Schemat Hornera"
   ]
  },
  {
   "cell_type": "code",
   "execution_count": 4,
   "metadata": {},
   "outputs": [],
   "source": [
    "def eval_pol(x, coeff):\n",
    "    p = coeff[-1]\n",
    "    n = len(coeff)\n",
    "    for i in range(1, n):\n",
    "        p = coeff[n-i-1] + p*x\n",
    "    return p"
   ]
  },
  {
   "cell_type": "markdown",
   "metadata": {},
   "source": [
    "## Rozwiązywanie układów równań:"
   ]
  },
  {
   "cell_type": "markdown",
   "metadata": {},
   "source": [
    "### 1. Metoda eliminacji Gaussa"
   ]
  },
  {
   "cell_type": "code",
   "execution_count": 5,
   "metadata": {},
   "outputs": [],
   "source": [
    "def partial_elimination(A,b):\n",
    "    A = np.array(A).astype(float)\n",
    "    b = np.array(b).astype(float)\n",
    "    n = len(b)\n",
    "    row_idx = 0\n",
    "    col_idx = 0\n",
    "    for i in range(n-1):\n",
    "        col_nums = []\n",
    "        col_nums.append(A[row_idx:,i])\n",
    "        col_max = np.max(col_nums)\n",
    "        pivot_row = np.argwhere(A[:,col_idx]==col_max)[-1][0]\n",
    "        A[[row_idx, pivot_row]] = A[[pivot_row, row_idx]]\n",
    "        b[[row_idx, pivot_row]] = b[[pivot_row, row_idx]]\n",
    "        for k in range(row_idx, n-1):\n",
    "            lam = A[k+1,col_idx]/A[row_idx,col_idx]\n",
    "            A[k+1, :] = A[k+1, :] - lam*A[row_idx, :]\n",
    "            b[k+1] = b[k+1] - lam*b[row_idx]\n",
    "        row_idx += 1\n",
    "        col_idx += 1  \n",
    "    for k in range(n-1,-1,-1):\n",
    "        b[k] = (b[k] - np.dot(A[k,k+ 1:n],b[k+ 1:n]))/A[k,k] \n",
    "    return A, b  "
   ]
  },
  {
   "cell_type": "markdown",
   "metadata": {},
   "source": [
    "### 2. Metoda Gaussa-Seidla"
   ]
  },
  {
   "cell_type": "code",
   "execution_count": 6,
   "metadata": {},
   "outputs": [],
   "source": [
    "def GaussSeidel(A,b,n):\n",
    "    L = np.tril(A, k=-1)\n",
    "    U = np.triu(A, k=1)\n",
    "    D = np.zeros((len(A), len(A)), float)\n",
    "    np.fill_diagonal(D, np.diag(A))\n",
    "    x = np.zeros(len(A))\n",
    "    T = -(np.linalg.inv(D+L))@U\n",
    "    C = (np.linalg.inv(D+L))@b\n",
    "    xs = []\n",
    "    for i in range(n):\n",
    "        x = T@x+C\n",
    "        xs.append(x)\n",
    "    return x, xs"
   ]
  },
  {
   "cell_type": "markdown",
   "metadata": {},
   "source": [
    "## Rozwiązywanie równań"
   ]
  },
  {
   "cell_type": "markdown",
   "metadata": {},
   "source": [
    "### 1. Bisekcja"
   ]
  },
  {
   "cell_type": "code",
   "execution_count": 7,
   "metadata": {},
   "outputs": [],
   "source": [
    "def bisection(f, a, b):\n",
    "    i = 0\n",
    "    flops = 3\n",
    "    fa = f(a)\n",
    "    fb = f(b)\n",
    "    if fa == 0.0:\n",
    "        return a\n",
    "    if fb == 0.0:\n",
    "        return b\n",
    "    m = a + (b-a)/2\n",
    "    fm = f(m)\n",
    "    while not np.isclose(fm, 0):\n",
    "        if (abs(fm) > abs(fa)) and (abs(fm)>abs(fb)):\n",
    "            print(f'W przedziale ({a}, {b}) występuje osobliwość')\n",
    "            return None\n",
    "        if (fa*fm>0) and (fb*fm>0):\n",
    "            print(f'W przedziale ({a}, {b}) nie występuje pierwiastek równiania.')\n",
    "            return None\n",
    "        if fm*fb<0:\n",
    "            a, fa = m, fm\n",
    "            m = a + (b-a)/2\n",
    "            fm = f(m)\n",
    "        if fa*fm<0:\n",
    "            b, fb = m, fm\n",
    "            m = a + (b-a)/2\n",
    "            fm = f(m)\n",
    "        i += 1\n",
    "        flops += 3\n",
    "    return m, i, flops"
   ]
  },
  {
   "cell_type": "markdown",
   "metadata": {},
   "source": [
    "### 2. Metoda Brenta"
   ]
  },
  {
   "cell_type": "code",
   "execution_count": 8,
   "metadata": {},
   "outputs": [],
   "source": [
    "def brent(f,a,b):\n",
    "    i = 0\n",
    "    flops = 22\n",
    "    c = (a+b)/2\n",
    "    fa = f(a)\n",
    "    fb = f(b)\n",
    "    fc = f(c)\n",
    "    x = -(a*fb*fc*(fb-fc)+b*fc*fa*(fc-fa)+c*fa*fb*(fa-fb))/((fa-fb)*(fb-fc)*(fc-fa))\n",
    "    fx = f(x)\n",
    "    while not np.isclose(fx, 0):\n",
    "        if fa*fc<0:\n",
    "            b = c\n",
    "            c = (a+b)/2\n",
    "            fa = f(a)\n",
    "            fb = f(b)\n",
    "            fc = f(c)\n",
    "            x = -(a*fb*fc*(fb-fc)+b*fc*fa*(fc-fa)+c*fa*fb*(fa-fb))/((fa-fb)*(fb-fc)*(fc-fa))\n",
    "            fx = f(x)\n",
    "        if fc*fb<0:\n",
    "            a = c\n",
    "            c = (a+b)/2\n",
    "            fa = f(a)\n",
    "            fb = f(b)\n",
    "            fc = f(c)\n",
    "            x = -(a*fb*fc*(fb-fc)+b*fc*fa*(fc-fa)+c*fa*fb*(fa-fb))/((fa-fb)*(fb-fc)*(fc-fa))\n",
    "            fx = f(x)\n",
    "        flops += 22\n",
    "        i += 1\n",
    "    return x, i, flops"
   ]
  },
  {
   "cell_type": "markdown",
   "metadata": {},
   "source": [
    "### 3. Metoda siecznych"
   ]
  },
  {
   "cell_type": "code",
   "execution_count": 9,
   "metadata": {},
   "outputs": [],
   "source": [
    "def secant(f,a,b):\n",
    "    i = 0\n",
    "    flops = 5\n",
    "    x_k1 = a\n",
    "    fxk1 = f(x_k1)\n",
    "    fb=f(b)\n",
    "    if fxk1*fb>0:\n",
    "        print('Funkcja w punktach wytyczających cięciwe ma ten same znak')\n",
    "    x_k = b - fb*(b-x_k1)/(f(b)-fxk1)\n",
    "    fx = f(x_k)\n",
    "    while not np.isclose(fx, 0, rtol=1e-10):\n",
    "        x_k, x_k1 = x_k - fx*(x_k-x_k1)/(fx-fxk1), x_k\n",
    "        fx, fxk1 = f(x_k), f(x_k1)       \n",
    "        i += 1\n",
    "        flops += 5 \n",
    "    return x_k, i, flops"
   ]
  },
  {
   "cell_type": "markdown",
   "metadata": {},
   "source": [
    "### 4. Metoda Newtona "
   ]
  },
  {
   "cell_type": "code",
   "execution_count": 10,
   "metadata": {},
   "outputs": [],
   "source": [
    "def f_prim(x):\n",
    "    return -1 - (1/np.cos(x)**2)\n",
    "\n",
    "def newton(f,b):\n",
    "    i = 0\n",
    "    flops = 2\n",
    "    x = b-f(b)/f_prim(b)\n",
    "    fx = f(x)\n",
    "    while not np.isclose(fx, 0):\n",
    "        b=x\n",
    "        x = b-f(b)/f_prim(b)\n",
    "        fx = f(x)\n",
    "        i += 1\n",
    "        flops += 2\n",
    "        if i > 1000:\n",
    "            raise ValueError(\"Metoda Newtona nie zbiega do rozwiązania z podanego punktu startowego.\")\n",
    "    return x, i, flops"
   ]
  },
  {
   "cell_type": "markdown",
   "metadata": {},
   "source": [
    "## Obliczanie całek"
   ]
  },
  {
   "cell_type": "markdown",
   "metadata": {},
   "source": [
    "### 1. Wzór simpsona"
   ]
  },
  {
   "cell_type": "code",
   "execution_count": 11,
   "metadata": {},
   "outputs": [],
   "source": [
    "def simpson(f, a, b, nodes):\n",
    "    n = nodes-1\n",
    "    h = (b-a)/n\n",
    "    x0 = f(a)\n",
    "    xn = f(b)\n",
    "    xi = 0\n",
    "    xj = 0\n",
    "    for i in range(1, n):\n",
    "        x = a + i*h\n",
    "        if i%2 ==0:\n",
    "            xi += f(x)\n",
    "        else:\n",
    "            xj += f(x)\n",
    "    integral = h*(x0 + 4*xj + 2*xi + xn)/3\n",
    "    return integral"
   ]
  },
  {
   "cell_type": "markdown",
   "metadata": {},
   "source": [
    "### 2. Wzór trapezów"
   ]
  },
  {
   "cell_type": "code",
   "execution_count": 12,
   "metadata": {},
   "outputs": [],
   "source": [
    "def trapezoidal(f, a, b, nodes):\n",
    "    n = nodes-1\n",
    "    h = (b-a)/n\n",
    "    x0 = f(a)\n",
    "    xn = f(b)\n",
    "    mid = 0\n",
    "    for i in range(1, n):\n",
    "        x = a+i*h\n",
    "        mid += f(x) \n",
    "    integral = h*((xn+x0)/2 + mid)\n",
    "    return integral\n"
   ]
  },
  {
   "cell_type": "markdown",
   "metadata": {},
   "source": [
    "### 3. Metoda Gaussa-Legendre’a"
   ]
  },
  {
   "cell_type": "code",
   "execution_count": 13,
   "metadata": {},
   "outputs": [],
   "source": [
    "def GaussLegendre(f, a, b, weights, nodes):\n",
    "    n = len(nodes)\n",
    "    h = (b-a)/2\n",
    "    c = (a+b)/2\n",
    "    val = 0\n",
    "    for i in range(0, n):\n",
    "        val += weights[i]*f(h*nodes[i]+c)\n",
    "    integral = h*val\n",
    "    return integral"
   ]
  },
  {
   "cell_type": "markdown",
   "metadata": {},
   "source": [
    "## Równania różniczkowe"
   ]
  },
  {
   "cell_type": "markdown",
   "metadata": {},
   "source": [
    "### 1. Metoda Eulera"
   ]
  },
  {
   "cell_type": "code",
   "execution_count": 14,
   "metadata": {},
   "outputs": [],
   "source": [
    "def euler(f, x0, y0, xStop, n):\n",
    "    h = (xStop-x0)/n\n",
    "    xs = [x0]\n",
    "    ys = [y0]\n",
    "    for i in range(n):\n",
    "        ys.append(ys[-1]+h*f(xs[-1], ys[-1]))\n",
    "        xs.append(xs[-1]+h)\n",
    "    return xs, ys"
   ]
  },
  {
   "cell_type": "markdown",
   "metadata": {},
   "source": [
    "### 2. Metoda Runge-Kutta drugiego rzędu"
   ]
  },
  {
   "cell_type": "code",
   "execution_count": 15,
   "metadata": {},
   "outputs": [],
   "source": [
    "def soRungeKutta(f, x0, y0, xStop, n):\n",
    "    h = (xStop-x0)/n\n",
    "    xs = [x0]\n",
    "    ys = [y0]\n",
    "    for i in range(n):\n",
    "        k1 = h*f(xs[-1], ys[-1])\n",
    "        k2 = h*f(xs[-1]+h/2, ys[-1]+k1/2)\n",
    "        ys.append(ys[-1]+k2)\n",
    "        xs.append(xs[-1]+h)\n",
    "    return xs, ys"
   ]
  },
  {
   "cell_type": "markdown",
   "metadata": {},
   "source": [
    "### 3. Metoda Runge-Kutty czwartego rzędu"
   ]
  },
  {
   "cell_type": "code",
   "execution_count": 16,
   "metadata": {},
   "outputs": [],
   "source": [
    "def foRungeKutta(f, x0, y0, xStop, n):\n",
    "    h = (xStop-x0)/n\n",
    "    xs = [x0]\n",
    "    ys = [y0]\n",
    "    for i in range(n):\n",
    "        k1 = f(xs[-1], ys[-1])\n",
    "        k2 = f(xs[-1]+h/2, ys[-1]+h*k1/2)\n",
    "        k3 = f(xs[-1]+h/2, ys[-1]+h*k2/2)\n",
    "        k4 = f(xs[-1]+h, ys[-1]+h*k3)\n",
    "        ys.append(ys[-1] + h*(k1+2*k2+2*k3+k4)/6)\n",
    "        xs.append(xs[-1]+h)\n",
    "    return xs, ys\n"
   ]
  }
 ],
 "metadata": {
  "kernelspec": {
   "display_name": "Python 3",
   "language": "python",
   "name": "python3"
  },
  "language_info": {
   "codemirror_mode": {
    "name": "ipython",
    "version": 3
   },
   "file_extension": ".py",
   "mimetype": "text/x-python",
   "name": "python",
   "nbconvert_exporter": "python",
   "pygments_lexer": "ipython3",
   "version": "3.10.1"
  }
 },
 "nbformat": 4,
 "nbformat_minor": 2
}
